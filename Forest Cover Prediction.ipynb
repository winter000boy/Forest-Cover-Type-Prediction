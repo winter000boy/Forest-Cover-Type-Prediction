{
 "cells": [
  {
   "cell_type": "code",
   "execution_count": 39,
   "metadata": {},
   "outputs": [],
   "source": [
    "import pandas as pd\n",
    "import numpy as np\n",
    "import matplotlib.pyplot as plt"
   ]
  },
  {
   "cell_type": "code",
   "execution_count": 40,
   "metadata": {},
   "outputs": [
    {
     "data": {
      "text/html": [
       "<div>\n",
       "<style scoped>\n",
       "    .dataframe tbody tr th:only-of-type {\n",
       "        vertical-align: middle;\n",
       "    }\n",
       "\n",
       "    .dataframe tbody tr th {\n",
       "        vertical-align: top;\n",
       "    }\n",
       "\n",
       "    .dataframe thead th {\n",
       "        text-align: right;\n",
       "    }\n",
       "</style>\n",
       "<table border=\"1\" class=\"dataframe\">\n",
       "  <thead>\n",
       "    <tr style=\"text-align: right;\">\n",
       "      <th></th>\n",
       "      <th>Id</th>\n",
       "      <th>Elevation</th>\n",
       "      <th>Aspect</th>\n",
       "      <th>Slope</th>\n",
       "      <th>Horizontal_Distance_To_Hydrology</th>\n",
       "      <th>Vertical_Distance_To_Hydrology</th>\n",
       "      <th>Horizontal_Distance_To_Roadways</th>\n",
       "      <th>Hillshade_9am</th>\n",
       "      <th>Hillshade_Noon</th>\n",
       "      <th>Hillshade_3pm</th>\n",
       "      <th>...</th>\n",
       "      <th>Soil_Type32</th>\n",
       "      <th>Soil_Type33</th>\n",
       "      <th>Soil_Type34</th>\n",
       "      <th>Soil_Type35</th>\n",
       "      <th>Soil_Type36</th>\n",
       "      <th>Soil_Type37</th>\n",
       "      <th>Soil_Type38</th>\n",
       "      <th>Soil_Type39</th>\n",
       "      <th>Soil_Type40</th>\n",
       "      <th>Cover_Type</th>\n",
       "    </tr>\n",
       "  </thead>\n",
       "  <tbody>\n",
       "    <tr>\n",
       "      <th>0</th>\n",
       "      <td>1</td>\n",
       "      <td>2596</td>\n",
       "      <td>51</td>\n",
       "      <td>3</td>\n",
       "      <td>258</td>\n",
       "      <td>0</td>\n",
       "      <td>510</td>\n",
       "      <td>221</td>\n",
       "      <td>232</td>\n",
       "      <td>148</td>\n",
       "      <td>...</td>\n",
       "      <td>0</td>\n",
       "      <td>0</td>\n",
       "      <td>0</td>\n",
       "      <td>0</td>\n",
       "      <td>0</td>\n",
       "      <td>0</td>\n",
       "      <td>0</td>\n",
       "      <td>0</td>\n",
       "      <td>0</td>\n",
       "      <td>5</td>\n",
       "    </tr>\n",
       "    <tr>\n",
       "      <th>1</th>\n",
       "      <td>2</td>\n",
       "      <td>2590</td>\n",
       "      <td>56</td>\n",
       "      <td>2</td>\n",
       "      <td>212</td>\n",
       "      <td>-6</td>\n",
       "      <td>390</td>\n",
       "      <td>220</td>\n",
       "      <td>235</td>\n",
       "      <td>151</td>\n",
       "      <td>...</td>\n",
       "      <td>0</td>\n",
       "      <td>0</td>\n",
       "      <td>0</td>\n",
       "      <td>0</td>\n",
       "      <td>0</td>\n",
       "      <td>0</td>\n",
       "      <td>0</td>\n",
       "      <td>0</td>\n",
       "      <td>0</td>\n",
       "      <td>5</td>\n",
       "    </tr>\n",
       "    <tr>\n",
       "      <th>2</th>\n",
       "      <td>3</td>\n",
       "      <td>2804</td>\n",
       "      <td>139</td>\n",
       "      <td>9</td>\n",
       "      <td>268</td>\n",
       "      <td>65</td>\n",
       "      <td>3180</td>\n",
       "      <td>234</td>\n",
       "      <td>238</td>\n",
       "      <td>135</td>\n",
       "      <td>...</td>\n",
       "      <td>0</td>\n",
       "      <td>0</td>\n",
       "      <td>0</td>\n",
       "      <td>0</td>\n",
       "      <td>0</td>\n",
       "      <td>0</td>\n",
       "      <td>0</td>\n",
       "      <td>0</td>\n",
       "      <td>0</td>\n",
       "      <td>2</td>\n",
       "    </tr>\n",
       "    <tr>\n",
       "      <th>3</th>\n",
       "      <td>4</td>\n",
       "      <td>2785</td>\n",
       "      <td>155</td>\n",
       "      <td>18</td>\n",
       "      <td>242</td>\n",
       "      <td>118</td>\n",
       "      <td>3090</td>\n",
       "      <td>238</td>\n",
       "      <td>238</td>\n",
       "      <td>122</td>\n",
       "      <td>...</td>\n",
       "      <td>0</td>\n",
       "      <td>0</td>\n",
       "      <td>0</td>\n",
       "      <td>0</td>\n",
       "      <td>0</td>\n",
       "      <td>0</td>\n",
       "      <td>0</td>\n",
       "      <td>0</td>\n",
       "      <td>0</td>\n",
       "      <td>2</td>\n",
       "    </tr>\n",
       "    <tr>\n",
       "      <th>4</th>\n",
       "      <td>5</td>\n",
       "      <td>2595</td>\n",
       "      <td>45</td>\n",
       "      <td>2</td>\n",
       "      <td>153</td>\n",
       "      <td>-1</td>\n",
       "      <td>391</td>\n",
       "      <td>220</td>\n",
       "      <td>234</td>\n",
       "      <td>150</td>\n",
       "      <td>...</td>\n",
       "      <td>0</td>\n",
       "      <td>0</td>\n",
       "      <td>0</td>\n",
       "      <td>0</td>\n",
       "      <td>0</td>\n",
       "      <td>0</td>\n",
       "      <td>0</td>\n",
       "      <td>0</td>\n",
       "      <td>0</td>\n",
       "      <td>5</td>\n",
       "    </tr>\n",
       "  </tbody>\n",
       "</table>\n",
       "<p>5 rows × 56 columns</p>\n",
       "</div>"
      ],
      "text/plain": [
       "   Id  Elevation  Aspect  Slope  Horizontal_Distance_To_Hydrology  \\\n",
       "0   1       2596      51      3                               258   \n",
       "1   2       2590      56      2                               212   \n",
       "2   3       2804     139      9                               268   \n",
       "3   4       2785     155     18                               242   \n",
       "4   5       2595      45      2                               153   \n",
       "\n",
       "   Vertical_Distance_To_Hydrology  Horizontal_Distance_To_Roadways  \\\n",
       "0                               0                              510   \n",
       "1                              -6                              390   \n",
       "2                              65                             3180   \n",
       "3                             118                             3090   \n",
       "4                              -1                              391   \n",
       "\n",
       "   Hillshade_9am  Hillshade_Noon  Hillshade_3pm  ...  Soil_Type32  \\\n",
       "0            221             232            148  ...            0   \n",
       "1            220             235            151  ...            0   \n",
       "2            234             238            135  ...            0   \n",
       "3            238             238            122  ...            0   \n",
       "4            220             234            150  ...            0   \n",
       "\n",
       "   Soil_Type33  Soil_Type34  Soil_Type35  Soil_Type36  Soil_Type37  \\\n",
       "0            0            0            0            0            0   \n",
       "1            0            0            0            0            0   \n",
       "2            0            0            0            0            0   \n",
       "3            0            0            0            0            0   \n",
       "4            0            0            0            0            0   \n",
       "\n",
       "   Soil_Type38  Soil_Type39  Soil_Type40  Cover_Type  \n",
       "0            0            0            0           5  \n",
       "1            0            0            0           5  \n",
       "2            0            0            0           2  \n",
       "3            0            0            0           2  \n",
       "4            0            0            0           5  \n",
       "\n",
       "[5 rows x 56 columns]"
      ]
     },
     "execution_count": 40,
     "metadata": {},
     "output_type": "execute_result"
    }
   ],
   "source": [
    "df = pd.read_csv('Dataset/train.csv')\n",
    "df.head()"
   ]
  },
  {
   "cell_type": "code",
   "execution_count": 41,
   "metadata": {},
   "outputs": [
    {
     "name": "stdout",
     "output_type": "stream",
     "text": [
      "<class 'pandas.core.frame.DataFrame'>\n",
      "RangeIndex: 15120 entries, 0 to 15119\n",
      "Data columns (total 56 columns):\n",
      " #   Column                              Non-Null Count  Dtype\n",
      "---  ------                              --------------  -----\n",
      " 0   Id                                  15120 non-null  int64\n",
      " 1   Elevation                           15120 non-null  int64\n",
      " 2   Aspect                              15120 non-null  int64\n",
      " 3   Slope                               15120 non-null  int64\n",
      " 4   Horizontal_Distance_To_Hydrology    15120 non-null  int64\n",
      " 5   Vertical_Distance_To_Hydrology      15120 non-null  int64\n",
      " 6   Horizontal_Distance_To_Roadways     15120 non-null  int64\n",
      " 7   Hillshade_9am                       15120 non-null  int64\n",
      " 8   Hillshade_Noon                      15120 non-null  int64\n",
      " 9   Hillshade_3pm                       15120 non-null  int64\n",
      " 10  Horizontal_Distance_To_Fire_Points  15120 non-null  int64\n",
      " 11  Wilderness_Area1                    15120 non-null  int64\n",
      " 12  Wilderness_Area2                    15120 non-null  int64\n",
      " 13  Wilderness_Area3                    15120 non-null  int64\n",
      " 14  Wilderness_Area4                    15120 non-null  int64\n",
      " 15  Soil_Type1                          15120 non-null  int64\n",
      " 16  Soil_Type2                          15120 non-null  int64\n",
      " 17  Soil_Type3                          15120 non-null  int64\n",
      " 18  Soil_Type4                          15120 non-null  int64\n",
      " 19  Soil_Type5                          15120 non-null  int64\n",
      " 20  Soil_Type6                          15120 non-null  int64\n",
      " 21  Soil_Type7                          15120 non-null  int64\n",
      " 22  Soil_Type8                          15120 non-null  int64\n",
      " 23  Soil_Type9                          15120 non-null  int64\n",
      " 24  Soil_Type10                         15120 non-null  int64\n",
      " 25  Soil_Type11                         15120 non-null  int64\n",
      " 26  Soil_Type12                         15120 non-null  int64\n",
      " 27  Soil_Type13                         15120 non-null  int64\n",
      " 28  Soil_Type14                         15120 non-null  int64\n",
      " 29  Soil_Type15                         15120 non-null  int64\n",
      " 30  Soil_Type16                         15120 non-null  int64\n",
      " 31  Soil_Type17                         15120 non-null  int64\n",
      " 32  Soil_Type18                         15120 non-null  int64\n",
      " 33  Soil_Type19                         15120 non-null  int64\n",
      " 34  Soil_Type20                         15120 non-null  int64\n",
      " 35  Soil_Type21                         15120 non-null  int64\n",
      " 36  Soil_Type22                         15120 non-null  int64\n",
      " 37  Soil_Type23                         15120 non-null  int64\n",
      " 38  Soil_Type24                         15120 non-null  int64\n",
      " 39  Soil_Type25                         15120 non-null  int64\n",
      " 40  Soil_Type26                         15120 non-null  int64\n",
      " 41  Soil_Type27                         15120 non-null  int64\n",
      " 42  Soil_Type28                         15120 non-null  int64\n",
      " 43  Soil_Type29                         15120 non-null  int64\n",
      " 44  Soil_Type30                         15120 non-null  int64\n",
      " 45  Soil_Type31                         15120 non-null  int64\n",
      " 46  Soil_Type32                         15120 non-null  int64\n",
      " 47  Soil_Type33                         15120 non-null  int64\n",
      " 48  Soil_Type34                         15120 non-null  int64\n",
      " 49  Soil_Type35                         15120 non-null  int64\n",
      " 50  Soil_Type36                         15120 non-null  int64\n",
      " 51  Soil_Type37                         15120 non-null  int64\n",
      " 52  Soil_Type38                         15120 non-null  int64\n",
      " 53  Soil_Type39                         15120 non-null  int64\n",
      " 54  Soil_Type40                         15120 non-null  int64\n",
      " 55  Cover_Type                          15120 non-null  int64\n",
      "dtypes: int64(56)\n",
      "memory usage: 6.5 MB\n"
     ]
    },
    {
     "data": {
      "text/plain": [
       "(None,\n",
       "                 Id     Elevation        Aspect         Slope  \\\n",
       " count  15120.00000  15120.000000  15120.000000  15120.000000   \n",
       " mean    7560.50000   2749.322553    156.676653     16.501587   \n",
       " std     4364.91237    417.678187    110.085801      8.453927   \n",
       " min        1.00000   1863.000000      0.000000      0.000000   \n",
       " 25%     3780.75000   2376.000000     65.000000     10.000000   \n",
       " 50%     7560.50000   2752.000000    126.000000     15.000000   \n",
       " 75%    11340.25000   3104.000000    261.000000     22.000000   \n",
       " max    15120.00000   3849.000000    360.000000     52.000000   \n",
       " \n",
       "        Horizontal_Distance_To_Hydrology  Vertical_Distance_To_Hydrology  \\\n",
       " count                      15120.000000                    15120.000000   \n",
       " mean                         227.195701                       51.076521   \n",
       " std                          210.075296                       61.239406   \n",
       " min                            0.000000                     -146.000000   \n",
       " 25%                           67.000000                        5.000000   \n",
       " 50%                          180.000000                       32.000000   \n",
       " 75%                          330.000000                       79.000000   \n",
       " max                         1343.000000                      554.000000   \n",
       " \n",
       "        Horizontal_Distance_To_Roadways  Hillshade_9am  Hillshade_Noon  \\\n",
       " count                     15120.000000   15120.000000    15120.000000   \n",
       " mean                       1714.023214     212.704299      218.965608   \n",
       " std                        1325.066358      30.561287       22.801966   \n",
       " min                           0.000000       0.000000       99.000000   \n",
       " 25%                         764.000000     196.000000      207.000000   \n",
       " 50%                        1316.000000     220.000000      223.000000   \n",
       " 75%                        2270.000000     235.000000      235.000000   \n",
       " max                        6890.000000     254.000000      254.000000   \n",
       " \n",
       "        Hillshade_3pm  ...   Soil_Type32   Soil_Type33   Soil_Type34  \\\n",
       " count   15120.000000  ...  15120.000000  15120.000000  15120.000000   \n",
       " mean      135.091997  ...      0.045635      0.040741      0.001455   \n",
       " std        45.895189  ...      0.208699      0.197696      0.038118   \n",
       " min         0.000000  ...      0.000000      0.000000      0.000000   \n",
       " 25%       106.000000  ...      0.000000      0.000000      0.000000   \n",
       " 50%       138.000000  ...      0.000000      0.000000      0.000000   \n",
       " 75%       167.000000  ...      0.000000      0.000000      0.000000   \n",
       " max       248.000000  ...      1.000000      1.000000      1.000000   \n",
       " \n",
       "         Soil_Type35   Soil_Type36   Soil_Type37   Soil_Type38   Soil_Type39  \\\n",
       " count  15120.000000  15120.000000  15120.000000  15120.000000  15120.000000   \n",
       " mean       0.006746      0.000661      0.002249      0.048148      0.043452   \n",
       " std        0.081859      0.025710      0.047368      0.214086      0.203880   \n",
       " min        0.000000      0.000000      0.000000      0.000000      0.000000   \n",
       " 25%        0.000000      0.000000      0.000000      0.000000      0.000000   \n",
       " 50%        0.000000      0.000000      0.000000      0.000000      0.000000   \n",
       " 75%        0.000000      0.000000      0.000000      0.000000      0.000000   \n",
       " max        1.000000      1.000000      1.000000      1.000000      1.000000   \n",
       " \n",
       "         Soil_Type40    Cover_Type  \n",
       " count  15120.000000  15120.000000  \n",
       " mean       0.030357      4.000000  \n",
       " std        0.171574      2.000066  \n",
       " min        0.000000      1.000000  \n",
       " 25%        0.000000      2.000000  \n",
       " 50%        0.000000      4.000000  \n",
       " 75%        0.000000      6.000000  \n",
       " max        1.000000      7.000000  \n",
       " \n",
       " [8 rows x 56 columns],\n",
       " Id                                    0\n",
       " Elevation                             0\n",
       " Aspect                                0\n",
       " Slope                                 0\n",
       " Horizontal_Distance_To_Hydrology      0\n",
       " Vertical_Distance_To_Hydrology        0\n",
       " Horizontal_Distance_To_Roadways       0\n",
       " Hillshade_9am                         0\n",
       " Hillshade_Noon                        0\n",
       " Hillshade_3pm                         0\n",
       " Horizontal_Distance_To_Fire_Points    0\n",
       " Wilderness_Area1                      0\n",
       " Wilderness_Area2                      0\n",
       " Wilderness_Area3                      0\n",
       " Wilderness_Area4                      0\n",
       " Soil_Type1                            0\n",
       " Soil_Type2                            0\n",
       " Soil_Type3                            0\n",
       " Soil_Type4                            0\n",
       " Soil_Type5                            0\n",
       " Soil_Type6                            0\n",
       " Soil_Type7                            0\n",
       " Soil_Type8                            0\n",
       " Soil_Type9                            0\n",
       " Soil_Type10                           0\n",
       " Soil_Type11                           0\n",
       " Soil_Type12                           0\n",
       " Soil_Type13                           0\n",
       " Soil_Type14                           0\n",
       " Soil_Type15                           0\n",
       " Soil_Type16                           0\n",
       " Soil_Type17                           0\n",
       " Soil_Type18                           0\n",
       " Soil_Type19                           0\n",
       " Soil_Type20                           0\n",
       " Soil_Type21                           0\n",
       " Soil_Type22                           0\n",
       " Soil_Type23                           0\n",
       " Soil_Type24                           0\n",
       " Soil_Type25                           0\n",
       " Soil_Type26                           0\n",
       " Soil_Type27                           0\n",
       " Soil_Type28                           0\n",
       " Soil_Type29                           0\n",
       " Soil_Type30                           0\n",
       " Soil_Type31                           0\n",
       " Soil_Type32                           0\n",
       " Soil_Type33                           0\n",
       " Soil_Type34                           0\n",
       " Soil_Type35                           0\n",
       " Soil_Type36                           0\n",
       " Soil_Type37                           0\n",
       " Soil_Type38                           0\n",
       " Soil_Type39                           0\n",
       " Soil_Type40                           0\n",
       " Cover_Type                            0\n",
       " dtype: int64,\n",
       " Index(['Id', 'Elevation', 'Aspect', 'Slope',\n",
       "        'Horizontal_Distance_To_Hydrology', 'Vertical_Distance_To_Hydrology',\n",
       "        'Horizontal_Distance_To_Roadways', 'Hillshade_9am', 'Hillshade_Noon',\n",
       "        'Hillshade_3pm', 'Horizontal_Distance_To_Fire_Points',\n",
       "        'Wilderness_Area1', 'Wilderness_Area2', 'Wilderness_Area3',\n",
       "        'Wilderness_Area4', 'Soil_Type1', 'Soil_Type2', 'Soil_Type3',\n",
       "        'Soil_Type4', 'Soil_Type5', 'Soil_Type6', 'Soil_Type7', 'Soil_Type8',\n",
       "        'Soil_Type9', 'Soil_Type10', 'Soil_Type11', 'Soil_Type12',\n",
       "        'Soil_Type13', 'Soil_Type14', 'Soil_Type15', 'Soil_Type16',\n",
       "        'Soil_Type17', 'Soil_Type18', 'Soil_Type19', 'Soil_Type20',\n",
       "        'Soil_Type21', 'Soil_Type22', 'Soil_Type23', 'Soil_Type24',\n",
       "        'Soil_Type25', 'Soil_Type26', 'Soil_Type27', 'Soil_Type28',\n",
       "        'Soil_Type29', 'Soil_Type30', 'Soil_Type31', 'Soil_Type32',\n",
       "        'Soil_Type33', 'Soil_Type34', 'Soil_Type35', 'Soil_Type36',\n",
       "        'Soil_Type37', 'Soil_Type38', 'Soil_Type39', 'Soil_Type40',\n",
       "        'Cover_Type'],\n",
       "       dtype='object'))"
      ]
     },
     "execution_count": 41,
     "metadata": {},
     "output_type": "execute_result"
    }
   ],
   "source": [
    "df.info(), df.describe(), df.isnull().sum(), df.columns"
   ]
  },
  {
   "cell_type": "code",
   "execution_count": 42,
   "metadata": {},
   "outputs": [
    {
     "data": {
      "text/plain": [
       "Cover_Type\n",
       "5    2160\n",
       "2    2160\n",
       "1    2160\n",
       "7    2160\n",
       "3    2160\n",
       "6    2160\n",
       "4    2160\n",
       "Name: count, dtype: int64"
      ]
     },
     "execution_count": 42,
     "metadata": {},
     "output_type": "execute_result"
    }
   ],
   "source": [
    "# Compare the both datasets how similar they are\n",
    "df['Cover_Type'].value_counts()"
   ]
  },
  {
   "cell_type": "code",
   "execution_count": 43,
   "metadata": {},
   "outputs": [],
   "source": [
    "x = df.drop('Cover_Type', axis=1)\n",
    "y = df['Cover_Type']"
   ]
  },
  {
   "cell_type": "code",
   "execution_count": 44,
   "metadata": {},
   "outputs": [],
   "source": [
    "from sklearn.model_selection import train_test_split\n",
    "x_train, x_test, y_train, y_test = train_test_split(x, y, test_size=0.2, random_state=45)"
   ]
  },
  {
   "cell_type": "code",
   "execution_count": 45,
   "metadata": {},
   "outputs": [
    {
     "data": {
      "text/plain": [
       "((12096, 55), (3024, 55), (12096,), (3024,))"
      ]
     },
     "execution_count": 45,
     "metadata": {},
     "output_type": "execute_result"
    }
   ],
   "source": [
    "x_train.shape, x_test.shape, y_train.shape, y_test.shape"
   ]
  },
  {
   "cell_type": "code",
   "execution_count": 46,
   "metadata": {},
   "outputs": [],
   "source": [
    "from sklearn.linear_model import LogisticRegression\n",
    "from sklearn.metrics import accuracy_score  # to calculate the accuracy of the model( only for classification models)"
   ]
  },
  {
   "cell_type": "code",
   "execution_count": 47,
   "metadata": {},
   "outputs": [
    {
     "name": "stderr",
     "output_type": "stream",
     "text": [
      "C:\\Users\\Sharma's\\AppData\\Roaming\\Python\\Python312\\site-packages\\sklearn\\linear_model\\_logistic.py:469: ConvergenceWarning: lbfgs failed to converge (status=1):\n",
      "STOP: TOTAL NO. of ITERATIONS REACHED LIMIT.\n",
      "\n",
      "Increase the number of iterations (max_iter) or scale the data as shown in:\n",
      "    https://scikit-learn.org/stable/modules/preprocessing.html\n",
      "Please also refer to the documentation for alternative solver options:\n",
      "    https://scikit-learn.org/stable/modules/linear_model.html#logistic-regression\n",
      "  n_iter_i = _check_optimize_result(\n"
     ]
    }
   ],
   "source": [
    "lg = LogisticRegression()\n",
    "lg.fit(x_train, y_train)\n",
    "y_prediction = lg.predict(x_test)  # we are trying to predict  y test based on x test"
   ]
  },
  {
   "cell_type": "code",
   "execution_count": 48,
   "metadata": {},
   "outputs": [
    {
     "data": {
      "text/plain": [
       "38.85582010582011"
      ]
     },
     "execution_count": 48,
     "metadata": {},
     "output_type": "execute_result"
    }
   ],
   "source": [
    "accuracy_score(y_test, y_prediction)*100 # accuracy_score(y_true_part, y_part_for_test )"
   ]
  },
  {
   "cell_type": "markdown",
   "metadata": {},
   "source": [
    "### So The Accuracy is very low so we will use another algorithm called Decision Tree"
   ]
  },
  {
   "cell_type": "code",
   "execution_count": 49,
   "metadata": {},
   "outputs": [],
   "source": [
    "from sklearn.tree import DecisionTreeClassifier"
   ]
  },
  {
   "cell_type": "code",
   "execution_count": 50,
   "metadata": {},
   "outputs": [],
   "source": [
    "dtc = DecisionTreeClassifier()\n",
    "dtc.fit(x_train,y_train)\n",
    "y_pred = dtc.predict(x_test) # We are trying to predict on the xTest Data"
   ]
  },
  {
   "cell_type": "code",
   "execution_count": 51,
   "metadata": {},
   "outputs": [
    {
     "data": {
      "text/plain": [
       "79.62962962962963"
      ]
     },
     "execution_count": 51,
     "metadata": {},
     "output_type": "execute_result"
    }
   ],
   "source": [
    "accuracy_score(y_test, y_pred)*100"
   ]
  },
  {
   "cell_type": "markdown",
   "metadata": {},
   "source": [
    "### Yet We are not getting satisfactory results So we try another Algorithm called Random Forest Classifier"
   ]
  },
  {
   "cell_type": "code",
   "execution_count": 52,
   "metadata": {},
   "outputs": [],
   "source": [
    "from sklearn.ensemble import RandomForestClassifier"
   ]
  },
  {
   "cell_type": "code",
   "execution_count": 53,
   "metadata": {},
   "outputs": [
    {
     "data": {
      "text/plain": [
       "86.40873015873017"
      ]
     },
     "execution_count": 53,
     "metadata": {},
     "output_type": "execute_result"
    }
   ],
   "source": [
    "rfc = RandomForestClassifier()\n",
    "\n",
    "rfc.fit(x_train, y_train)\n",
    "y_pred_by_rfc = rfc.predict(x_test) # trying to predict on the xTest Data\n",
    "accuracy_score(y_test, y_pred_by_rfc)*100"
   ]
  },
  {
   "cell_type": "markdown",
   "metadata": {},
   "source": [
    "### We got the highest Result by using random forest so we choose this one"
   ]
  },
  {
   "cell_type": "code",
   "execution_count": 54,
   "metadata": {},
   "outputs": [
    {
     "data": {
      "text/plain": [
       "Cover_Type\n",
       "5    2160\n",
       "2    2160\n",
       "1    2160\n",
       "7    2160\n",
       "3    2160\n",
       "6    2160\n",
       "4    2160\n",
       "Name: count, dtype: int64"
      ]
     },
     "execution_count": 54,
     "metadata": {},
     "output_type": "execute_result"
    }
   ],
   "source": [
    "df['Cover_Type'].value_counts()"
   ]
  },
  {
   "cell_type": "markdown",
   "metadata": {},
   "source": [
    "### Before exporting the pickle file we will first check that is our algorithm is working on user inputs or not"
   ]
  },
  {
   "cell_type": "code",
   "execution_count": 55,
   "metadata": {},
   "outputs": [
    {
     "data": {
      "text/plain": [
       "array([  11, 2612,  201,    4,  180,   51,  735,  218,  243,  161, 6222,\n",
       "          1,    0,    0,    0,    0,    0,    0,    0,    0,    0,    0,\n",
       "          0,    0,    0,    0,    0,    0,    0,    0,    0,    0,    1,\n",
       "          0,    0,    0,    0,    0,    0,    0,    0,    0,    0,    0,\n",
       "          0,    0,    0,    0,    0,    0,    0,    0,    0,    0,    0,\n",
       "          5])"
      ]
     },
     "execution_count": 55,
     "metadata": {},
     "output_type": "execute_result"
    }
   ],
   "source": [
    "df.iloc[10].values"
   ]
  },
  {
   "cell_type": "code",
   "execution_count": 56,
   "metadata": {},
   "outputs": [],
   "source": [
    "userInput = [11, 2612,  201,    4,  180,   51,  735,  218,  243,  161, 6222,\n",
    "          1,    0,    0,    0,    0,    0,    0,    0,    0,    0,    0,\n",
    "          0,    0,    0,    0,    0,    0,    0,    0,    0,    0,    1,\n",
    "          0,    0,    0,    0,    0,    0,    0,    0,    0,    0,    0,\n",
    "          0,    0,    0,    0,    0,    0,    0,    0,    0,    0,    0]"
   ]
  },
  {
   "cell_type": "code",
   "execution_count": 58,
   "metadata": {},
   "outputs": [
    {
     "name": "stderr",
     "output_type": "stream",
     "text": [
      "C:\\Users\\Sharma's\\AppData\\Roaming\\Python\\Python312\\site-packages\\sklearn\\base.py:493: UserWarning: X does not have valid feature names, but RandomForestClassifier was fitted with feature names\n",
      "  warnings.warn(\n"
     ]
    },
    {
     "data": {
      "text/plain": [
       "array([5])"
      ]
     },
     "execution_count": 58,
     "metadata": {},
     "output_type": "execute_result"
    }
   ],
   "source": [
    "features = np.array(userInput).reshape(1, -1)\n",
    "\n",
    "rfc.predict(features)  # Successfully predicted the output 5 which is  'Aspen'"
   ]
  },
  {
   "cell_type": "markdown",
   "metadata": {},
   "source": [
    "### Now we will dump the pickle file"
   ]
  },
  {
   "cell_type": "code",
   "execution_count": 59,
   "metadata": {},
   "outputs": [],
   "source": [
    "import pickle"
   ]
  },
  {
   "cell_type": "code",
   "execution_count": 60,
   "metadata": {},
   "outputs": [],
   "source": [
    "pickle.dump(rfc, open('ForestCoverPredicion.pkl', 'wb'))"
   ]
  }
 ],
 "metadata": {
  "kernelspec": {
   "display_name": "Python 3",
   "language": "python",
   "name": "python3"
  },
  "language_info": {
   "codemirror_mode": {
    "name": "ipython",
    "version": 3
   },
   "file_extension": ".py",
   "mimetype": "text/x-python",
   "name": "python",
   "nbconvert_exporter": "python",
   "pygments_lexer": "ipython3",
   "version": "3.12.6"
  }
 },
 "nbformat": 4,
 "nbformat_minor": 2
}
